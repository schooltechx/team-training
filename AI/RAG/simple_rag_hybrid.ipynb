{
 "cells": [
  {
   "cell_type": "markdown",
   "id": "02b2dac4",
   "metadata": {
    "vscode": {
     "languageId": "raw"
    }
   },
   "source": [
    "# RAG Thai\n",
    "ใช้ ChatGPT ช่วยสร้างโค้ดบางส่วนยังไม่แน่ใจว่ามันทำงานถูกหรือเปล่า\n",
    "- Thai: ลองเพิ่มการจัดการภาษาไทย normalize tokenize split chunk\n",
    "- embeding : ใช้แบบ Opensource เช่น intfloat/multilingual-e5-base\n",
    "- Database : faiss เป็นแบบ hybrid\n",
    "- Generate : ใช้ Gemini "
   ]
  },
  {
   "cell_type": "code",
   "execution_count": 69,
   "id": "134d87e5",
   "metadata": {},
   "outputs": [
    {
     "name": "stdout",
     "output_type": "stream",
     "text": [
      "\u001b[2mResolved \u001b[1m162 packages\u001b[0m \u001b[2min 7ms\u001b[0m\u001b[0m\n",
      "\u001b[2mAudited \u001b[1m158 packages\u001b[0m \u001b[2min 0.19ms\u001b[0m\u001b[0m\n"
     ]
    },
    {
     "name": "stderr",
     "output_type": "stream",
     "text": [
      "huggingface/tokenizers: The current process just got forked, after parallelism has already been used. Disabling parallelism to avoid deadlocks...\n",
      "To disable this warning, you can either:\n",
      "\t- Avoid using `tokenizers` before the fork if possible\n",
      "\t- Explicitly set the environment variable TOKENIZERS_PARALLELISM=(true | false)\n"
     ]
    }
   ],
   "source": [
    "!uv add numpy google-genai pythainlp sentence-transformers faiss-cpu rank-bm25 ipywidgets"
   ]
  },
  {
   "cell_type": "code",
   "execution_count": 70,
   "id": "954c389f",
   "metadata": {},
   "outputs": [],
   "source": [
    "import os\n",
    "import json\n",
    "from google import genai\n",
    "# from google.genai.types import EmbedContentConfig\n",
    "from pythainlp import word_tokenize\n",
    "from pythainlp.util import normalize\n",
    "from rank_bm25 import BM25Okapi\n",
    "from sentence_transformers import SentenceTransformer\n",
    "import faiss\n",
    "import numpy as np\n",
    "import re\n",
    "\n",
    "if not os.environ.get(\"GEMINI_API_KEY\"):\n",
    "    raise ValueError(\"Please set the GEMINI_API_KEY environment variable\")\n",
    "\n",
    "client = genai.Client()\n"
   ]
  },
  {
   "cell_type": "markdown",
   "id": "5aa9a733",
   "metadata": {},
   "source": [
    "## Text utils\n",
    "ฟังก์ชั่นสำหรับจัดการข้อความ normalize, token, split, chunk"
   ]
  },
  {
   "cell_type": "code",
   "execution_count": 71,
   "id": "41dd542a",
   "metadata": {},
   "outputs": [],
   "source": [
    "def th_normalize(text: str) -> str:\n",
    "    # ลบซ้ำวรรณยุกต์/สระยาว, normalize รูปแบบ, ตัดช่องว่างเกิน\n",
    "    t = normalize(text or \"\")\n",
    "    t = re.sub(r\"[^\\S\\r\\n]+\", \" \", t).strip()\n",
    "    # ลดเสียงลากยาว \"มากกกก\" -> \"มาก\"\n",
    "    t = re.sub(r\"(.)\\1{2,}\", r\"\\1\", t)\n",
    "    return t\n",
    "\n",
    "def th_tokenize(text: str):\n",
    "    # เลือก engine 'newmm' ซึ่งแม่นยำดีสำหรับไทย\n",
    "    return word_tokenize(text, engine=\"newmm\")\n",
    "\n",
    "def sent_split_th(text: str):\n",
    "    # แยกเป็นประโยคแบบง่าย ๆ ตามเครื่องหมายวรรคตอนไทย/อังกฤษ\n",
    "    # (สำหรับงานจริง อาจใช้ประโยคจาก Markdown heading/ย่อหน้าร่วมด้วย)\n",
    "    return re.split(r\"(?<=[\\.\\?\\!]|[ๆฯ])\\s+\", text.strip())\n",
    "\n",
    "# -------- Chunking ตามประโยค + ขนาดโทเคนคร่าว ๆ --------\n",
    "def chunk_by_sentences(text, max_chars=600, overlap_chars=80):\n",
    "    sents = [s for s in sent_split_th(th_normalize(text)) if s]\n",
    "    chunks = []\n",
    "    buf = \"\"\n",
    "    for s in sents:\n",
    "        if len(buf) + len(s) + 1 <= max_chars:\n",
    "            buf = (buf + \" \" + s).strip()\n",
    "        else:\n",
    "            if buf:\n",
    "                chunks.append(buf)\n",
    "            # overlap\n",
    "            if overlap_chars > 0 and chunks:\n",
    "                tail = chunks[-1][-overlap_chars:]\n",
    "                buf = (tail + \" \" + s).strip()\n",
    "            else:\n",
    "                buf = s\n",
    "    if buf:\n",
    "        chunks.append(buf)\n",
    "    return chunks\n",
    "\n",
    "def chunk_documents(docs, max_chars=600, overlap_chars=80):\n",
    "    all_chunks = []\n",
    "    for doc in docs:\n",
    "        chunks = chunk_by_sentences(doc[\"description\"], max_chars, overlap_chars)\n",
    "        for i, chunk in enumerate(chunks):\n",
    "            all_chunks.append({\n",
    "                \"id\": f\"{doc['id']}_chunk{i+1}\",\n",
    "                \"title\": doc.get(\"name\", \"\"),\n",
    "                \"text\": chunk\n",
    "            })\n",
    "    return all_chunks\n"
   ]
  },
  {
   "cell_type": "markdown",
   "id": "c277b68a",
   "metadata": {},
   "source": [
    "ทดสอบ text utils"
   ]
  },
  {
   "cell_type": "code",
   "execution_count": 72,
   "id": "fc2a73d8",
   "metadata": {},
   "outputs": [
    {
     "name": "stdout",
     "output_type": "stream",
     "text": [
      "normalize: สวัสดีมากๆ!เลย จ้า\n",
      "tokenize: ['สวัสดี', 'มาก', 'ๆ', '!', 'เลย', '    ', 'จ้า', 'าาา']\n",
      "split: ['สวัสดีมากๆ!เลย    จ้าาาา']\n",
      "norm+token: ['สวัสดี', 'มาก', 'ๆ', '!', 'เลย', ' ', 'จ้า']\n",
      "chunk_by_sentences: ['สวัสดีมากๆ!เลย จ้า']\n"
     ]
    }
   ],
   "source": [
    "# test_thai_word = \"กรุงเทพฯ 5 มี.ค. - ธนาคารแห่งประเทศไทย (ธปท.) \\nเตือนประชาชนระวังมิจฉาชีพแอบอ้างเป็นเจ้าหน้าที่ธนาคารหรือหน่วยงานรัฐ ส่ง SMS หรือ LINE ที่มีลิงก์ปลอม เพื่อหลอกให้โอนเงินหรือติดตั้งแอปพลิเคชันอันตราย พร้อมแนะวิธีป้องกันตัวเองจากมิจฉาชีพ\"\n",
    "test_thai_word = \"สวัสดีมากๆ!เลย    จ้าาาา\"\n",
    "print(\"normalize:\",th_normalize(test_thai_word) )\n",
    "print(\"tokenize:\",th_tokenize(test_thai_word))\n",
    "print(\"split:\",sent_split_th(test_thai_word))\n",
    "print(\"norm+token:\",th_tokenize(th_normalize(test_thai_word)))\n",
    "print(\"chunk_by_sentences:\",chunk_by_sentences(test_thai_word))"
   ]
  },
  {
   "cell_type": "markdown",
   "id": "575d5074",
   "metadata": {},
   "source": [
    "## Embedding\n",
    "ตัวอย่างนี้ใช้ intfloat/multilingual-e5-base หรือ BAAI/beg-m3 รองรับหลายภาษารวมทั้งภาษาไทย ตั้งไว้แบบ CPU เพื่อจะได้ไม่มี"
   ]
  },
  {
   "cell_type": "code",
   "execution_count": 73,
   "id": "07997cec",
   "metadata": {},
   "outputs": [],
   "source": [
    "#embed_model = SentenceTransformer(\"intfloat/multilingual-e5-base\",device='cpu')\n",
    "embed_model = SentenceTransformer(\"BAAI/bge-m3\",device='cpu')\n",
    "def embed(texts):\n",
    "    return embed_model.encode([f\"{t}\" for t in texts], normalize_embeddings=True,device='cpu')\n",
    "    "
   ]
  },
  {
   "cell_type": "code",
   "execution_count": 74,
   "id": "2d4f854a",
   "metadata": {},
   "outputs": [],
   "source": [
    "def create_chunk_records(docs):\n",
    "    # 3) สร้างชิ้นข้อมูล (chunks)\n",
    "    chunk_records = []\n",
    "    for d in docs:\n",
    "        chunks = chunk_by_sentences(d[\"description\"], max_chars=500, overlap_chars=50)\n",
    "        for i, c in enumerate(chunks):\n",
    "            chunk_records.append({\n",
    "                \"doc_id\": d[\"id\"],\n",
    "                \"title\": d[\"name\"],\n",
    "                \"chunk_id\": f'{d[\"id\"]}-{i}',\n",
    "                \"text\": c,\n",
    "            })\n",
    "    return chunk_records\n",
    "def create_embedding(chunk_records):\n",
    "    emb_matrix = embed([f\"{r[\"title\"]}:\\n{r[\"text\"]}\"  for r in chunk_records]).astype(\"float32\")\n",
    "    # ดัชนีเวคเตอร์ FAISS\n",
    "    d = emb_matrix.shape[1]\n",
    "    index = faiss.IndexFlatIP(d)  # ใช้ cosine-sim กับเวคเตอร์ normalized = dot product\n",
    "    index.add(emb_matrix)\n",
    "    return index"
   ]
  },
  {
   "cell_type": "markdown",
   "id": "79a91d38",
   "metadata": {},
   "source": [
    "## Hybrid Search\n"
   ]
  },
  {
   "cell_type": "code",
   "execution_count": null,
   "id": "4ac91d90",
   "metadata": {},
   "outputs": [],
   "source": [
    "def hybrid_search(query,index,chunk_records, top_k=6, alpha=0.5):\n",
    "    \"\"\"\n",
    "    alpha: ถ้า 1.0 เน้น vector ล้วน, ถ้า 0.0 เน้น BM25 ล้วน\n",
    "    \"\"\"\n",
    "    q_norm = th_normalize(query)\n",
    "    q_tokens = th_tokenize(q_norm)\n",
    "\n",
    "    #BM25\n",
    "    bm25_corpus_tokens = [th_tokenize(r[\"text\"]) for r in chunk_records]\n",
    "    bm25 = BM25Okapi(bm25_corpus_tokens)\n",
    "    bm25_scores = bm25.get_scores(q_tokens)\n",
    "    bm25_top_idx = np.argsort(bm25_scores)[::-1][:top_k*3]  # ขยายเผื่อรวมกับเวคเตอร์\n",
    "\n",
    "    # 7.2 Vector\n",
    "    q_emb = embed_model.encode([f\"query: {q_norm}\"], normalize_embeddings=True).astype(\"float32\")\n",
    "    sim, idx = index.search(q_emb, top_k*3)  # cosine-sim (dot)\n",
    "    vec_scores = np.zeros(len(chunk_records))\n",
    "    vec_scores[idx[0]] = sim[0]\n",
    "\n",
    "    # 7.3 รวมคะแนน (normalize แบบ min-max)\n",
    "    def norm(x):\n",
    "        x = np.array(x, dtype=np.float32)\n",
    "        if x.max() - x.min() < 1e-8:\n",
    "            return np.zeros_like(x)\n",
    "        return (x - x.min()) / (x.max() - x.min())\n",
    "\n",
    "    bm25_mask = np.zeros(len(chunk_records)); bm25_mask[bm25_top_idx] = 1\n",
    "    union_idx = np.where((bm25_mask + (vec_scores>0))>0)[0]\n",
    "\n",
    "    score_b = norm(bm25_scores[union_idx])\n",
    "    score_v = norm(vec_scores[union_idx])\n",
    "    score = alpha*score_v + (1-alpha)*score_b\n",
    "\n",
    "    order = union_idx[np.argsort(score)[::-1][:top_k]]\n",
    "    results = []\n",
    "    for i in order:\n",
    "        r = chunk_records[i]\n",
    "        results.append({\n",
    "            \"chunk_id\": r[\"chunk_id\"],\n",
    "            \"doc_id\": r[\"doc_id\"],\n",
    "            \"title\": r[\"title\"],\n",
    "            \"text\": r[\"text\"],\n",
    "            \"score\": float(score[np.where(union_idx==i)][0]),\n",
    "        })\n",
    "    return results"
   ]
  },
  {
   "cell_type": "markdown",
   "id": "2c70f28f",
   "metadata": {},
   "source": [
    "## Generate"
   ]
  },
  {
   "cell_type": "code",
   "execution_count": 91,
   "id": "e51789cd",
   "metadata": {},
   "outputs": [],
   "source": [
    "# สร้างคำตอบโดยยึดตามหลัก \"ใช้เฉพาะจากบริบท\"\n",
    "def generate_response(query, contexts,max_ctx_chars=1200):\n",
    "    \"\"\"Generate a response using Gemini based on the query and retrieved context\"\"\"\n",
    "    context_text = \"\"\n",
    "    for c in contexts:\n",
    "        if len(context_text) + len(c[\"text\"]) + 2 <= max_ctx_chars:\n",
    "            context_text += f\"- {c['text']}\\n\"\n",
    "\n",
    "    prompt = f\"\"\"\n",
    "You are a helpful assistant .\n",
    "Use the provided restaurant information to answer the user's query.\n",
    "If the query asks for something not in the provided information, politely indicate \n",
    "that you don't have that specific information but suggest the closest alternatives.\n",
    "\n",
    "USER QUERY: {query}\n",
    "\n",
    "INFORMATION:\n",
    "{context_text}\n",
    "\n",
    "Please provide a helpful response that directly answers the user's query based on information above.\n",
    "Include useful information\n",
    "\"\"\"\n",
    "    \n",
    "    response = client.models.generate_content(\n",
    "        model='gemini-2.5-flash',\n",
    "        contents=prompt,\n",
    "    )\n",
    "    answer = response.text\n",
    "    return prompt, answer\n"
   ]
  },
  {
   "cell_type": "markdown",
   "id": "b1a65d19",
   "metadata": {},
   "source": [
    "Reload Data"
   ]
  },
  {
   "cell_type": "code",
   "execution_count": null,
   "id": "62debe84",
   "metadata": {},
   "outputs": [],
   "source": [
    "# ทดลองค้นหา + ตอบ\n",
    "docs=[]\n",
    "with open('./data2.json') as f:\n",
    "    docs = json.load(f)\n",
    "chunk_records = create_chunk_records(docs)\n",
    "index = create_embedding(chunk_records)"
   ]
  },
  {
   "cell_type": "markdown",
   "id": "d2db8616",
   "metadata": {},
   "source": [
    "RAGS"
   ]
  },
  {
   "cell_type": "code",
   "execution_count": 86,
   "id": "95a446b4",
   "metadata": {},
   "outputs": [],
   "source": [
    "# user_query = \"ถ้าโอนเงินผิดบัญชีควรทำอย่างไร และควรระวังมิจฉาชีพแบบไหน?\"\n",
    "user_query = \"ถ้าได้ SMS น่าสงสัยควรทำอย่างไร\"\n",
    "results = hybrid_search(user_query,index,chunk_records, top_k=5, alpha=0.6)\n",
    "prompt, answer = generate_response(user_query, results)"
   ]
  },
  {
   "cell_type": "markdown",
   "id": "3d93ae2d",
   "metadata": {},
   "source": [
    "ค้นหาข้อมูลที่ใกล้เคียงกับ query"
   ]
  },
  {
   "cell_type": "code",
   "execution_count": 87,
   "id": "4287a03d",
   "metadata": {},
   "outputs": [
    {
     "data": {
      "text/plain": [
       "[{'doc_id': 'doc1',\n",
       "  'title': 'คู่มือใช้งานแอปธนาคาร',\n",
       "  'chunk_id': 'doc1-0',\n",
       "  'text': 'การโอนเงินผ่านมือถือให้ไปที่เมนูโอนเงิน เลือกบัญชีผู้รับ ตรวจสอบชื่อและหมายเลขบัญชีให้ถูกต้อง\\nค่าธรรมเนียมการโอนภายในธนาคารเดียวกันไม่มีค่าใช้จ่าย การโอนไปต่างธนาคารคิดค่าธรรมเนียมตามเงื่อนไข\\nหากโอนผิดบัญชีให้ติดต่อคอลเซ็นเตอร์ทันที เพื่อดำเนินการระงับและติดตามยอด'},\n",
       " {'doc_id': 'doc2',\n",
       "  'title': 'คำเตือนภัยหลอกลวง',\n",
       "  'chunk_id': 'doc2-0',\n",
       "  'text': 'อย่าคลิกลิงก์ที่ส่งมาทาง SMS หรือ LINE จากผู้ไม่รู้จัก อย่าให้รหัส OTP กับใคร\\nมิจฉาชีพมักอ้างเป็นเจ้าหน้าที่ธนาคารหรือหน่วยงานรัฐ เพื่อลวงให้โอนเงินหรือติดตั้งแอปอันตราย\\nหากสงสัยให้โทรติดต่อหน่วยงานผ่านเบอร์ทางการด้วยตนเอง'},\n",
       " {'doc_id': 'doc3',\n",
       "  'title': 'นโยบายความปลอดภัยบัญชี',\n",
       "  'chunk_id': 'doc3-0',\n",
       "  'text': 'ตั้งรหัสผ่านที่เดายากและไม่ซ้ำกับที่อื่น เปิดใช้ 2FA ตรวจสอบรายการเคลื่อนไหวเป็นประจำ\\nหากพบความผิดปกติ ให้เปลี่ยนรหัสผ่านและอายัดบัญชีทันที'},\n",
       " {'doc_id': 'doc4',\n",
       "  'title': 'สร้างประวัติเครดิตที่ดี',\n",
       "  'chunk_id': 'doc4-0',\n",
       "  'text': 'รักษาประวัติการชำระหนี้ให้ดีอยู่เสมอ เพื่อให้ธนาคารเชื่อมั่นในความสามารถในการชำระหนี้ของคุณ'},\n",
       " {'doc_id': 'doc5',\n",
       "  'title': 'ระวัง SMS/ลิงก์ปลอม',\n",
       "  'chunk_id': 'doc5-0',\n",
       "  'text': 'ไม่กดลิงก์หรือดาวน์โหลดแอปพลิเคชันจาก SMS ที่แอบอ้างเป็นธนาคาร เพราะอาจเป็นไวรัสที่ขโมยข้อมูล'},\n",
       " {'doc_id': 'doc6',\n",
       "  'title': 'การใช้งานผ่านเวป',\n",
       "  'chunk_id': 'doc6-0',\n",
       "  'text': 'หากท่านไม่เห็นการเข้าสู่โหมด https หลังจากเข้า Website ของธนาคารแล้ว หรือ มีการแจ้งเตือนเรื่อง the SSL Certificate ว่าไม่ใช่เป็นใบรับรองของธนาคาร แนะนำให้ท่านทำการปิด Browser ทันที และไม่ให้ทำรายการธุรกรรมใดๆ'},\n",
       " {'doc_id': 'doc7',\n",
       "  'title': 'การใช้งาน ATM',\n",
       "  'chunk_id': 'doc7-0',\n",
       "  'text': 'สังเกตช่องเสียบบัตรหรือแป้นพิมพ์มีลักษณะแตกต่างไปจากปกติเช่นแป้นพิมพ์มีลักษณะหนากว่าปกติ มิจฉาชีพอาจแอบติดตั้งอุปกรณ์ Skimmer\\nมีการติดกล่องใส่ใบปลิวบริเวณหน้าเครื่องหรือไม่ มิจฉาชีพอาจซ่อนกล้องในกล่องนั้น\\nสมัครใช้บริการ SMS Alert ซึ่งเป็นบริการแจ้งเตือนทาง SMS\\nอย่ามอบบัตรเอทีเอ็มให้บุคคลอื่นโดยเด็ดขาด ไม่ว่ากรณีใดๆ ทั้งสิ้น'},\n",
       " {'doc_id': 'doc8',\n",
       "  'title': 'การใช้อีเมลให้ปลอดภัย',\n",
       "  'chunk_id': 'doc8-0',\n",
       "  'text': 'ไม่ให้ที่อยู่อีเมลแก่คนที่เราไม่รู้จัก\\nไม่เปิดอีเมลจากคน หรือองค์กร/ธุรกิจที่เราไม่รู้จัก\\nอีเมลที่ท่านได้รับอาจเป็นเรื่องหลอกลวง โฆษณาชวนเชื่อที่ไม่เป็นความจริง เป็นจดหมายลูกโซ่ และอาจมีไวรัสคอมพิวเตอร์แนบมากับอีเมล ดังนั้นหากท่านได้รับอีเมลที่ไม่รู้จักหรือน่าสงสัยในลักษณะดังกล่าว ห้ามเปิดไฟล์ใดๆ และให้ทำการลบเมล์นั้นทิ้งทันที\\nธนาคารไทยพาณิชย์ไม่มีนโยบายในการสอบถามข้อมูลส่วนตัวใดๆ ของลูกค้าผ่านทางอีเมล หรือทางโทรศัพท์ หากท่านได้รับอีเมลหรือโทรศัพท์ในลักษณะดังกล่าว อย่าตอบกลับหรือให้ข้อมูลใดๆ'},\n",
       " {'doc_id': 'doc9',\n",
       "  'title': 'ทำอย่างไรเพื่อหลีกเลี่ยง Spyware',\n",
       "  'chunk_id': 'doc9-0',\n",
       "  'text': 'ระวังอีเมลที่ให้คำแนะนำเกี่ยวกับการแจกโปรแกรมฟรี โปรแกรมที่เกี่ยวกับการกำจัด Spyware เป็นต้น\\nขณะใช้งานอินเทอร์เน็ต และต้องมีการลงทะเบียนเพื่อให้กรอกข้อมูลส่วนตัวนั้น ท่านต้องมั่นใจว่าเป็นเว็บไซด์ที่ท่านตั้งใจ และมีความน่าเชื่อถือ แต่ถ้าหากไม่มีความจำเป็นใดๆ'},\n",
       " {'doc_id': 'doc9',\n",
       "  'title': 'ทำอย่างไรเพื่อหลีกเลี่ยง Spyware',\n",
       "  'chunk_id': 'doc9-1',\n",
       "  'text': 'จ และมีความน่าเชื่อถือ แต่ถ้าหากไม่มีความจำเป็นใดๆ ควรหลีกเลี่ยงการลงทะเบียนดังกล่าว\\nหากท่านสงสัยว่าได้ทำการติดตั้งโปรแกรมที่ไม่รู้จัก ซึ่งอาจเป็นโปรแกรม Spyware ท่านสามารถเรียกดูรายการโปรแกรมที่ติดตั้ง เพื่อทำการ Remove โปรแกรมที่ไม่รู้จักนั้นออกจากเครื่องคอมพิวเตอร์ของท่าน\\nติดตั้งโปรแกรม Anti-Spyware ที่สามารถตรวจสอบ Spyware ที่อาจแฝงตัวอยู่ภายในเครื่องคอมพิวเตอร์ของท่านที่จะแจ้งเตือนให้ท่านทราบ และทำการลบสปายแวร์ออกจากเครื่องคอมพิวเตอร์โดยทันที\\nไม่ดาว์นโหลดไฟล์ข้อมูลหรือโปรแกรมจากเว็บไซต์ที่ไม่น่าเชื่อถือ'}]"
      ]
     },
     "execution_count": 87,
     "metadata": {},
     "output_type": "execute_result"
    }
   ],
   "source": [
    "chunk_records"
   ]
  },
  {
   "cell_type": "code",
   "execution_count": 88,
   "id": "5bdf1237",
   "metadata": {},
   "outputs": [
    {
     "name": "stdout",
     "output_type": "stream",
     "text": [
      "Top Hits:\n",
      "[การใช้งานผ่านเวป] (0.907) หากท่านไม่เห็นการเข้าสู่โหมด https หลังจากเข้า Website ของธนาคารแล้ว หรือ มีการแจ้งเตือนเรื่อง the SSL Certificate ว่าไม...\n",
      "[การใช้อีเมลให้ปลอดภัย] (0.810) ไม่ให้ที่อยู่อีเมลแก่คนที่เราไม่รู้จัก\n",
      "ไม่เปิดอีเมลจากคน หรือองค์กร/ธุรกิจที่เราไม่รู้จัก\n",
      "อีเมลที่ท่านได้รับอาจเป็นเรื่อ...\n",
      "[ระวัง SMS/ลิงก์ปลอม] (0.779) ไม่กดลิงก์หรือดาวน์โหลดแอปพลิเคชันจาก SMS ที่แอบอ้างเป็นธนาคาร เพราะอาจเป็นไวรัสที่ขโมยข้อมูล...\n",
      "[การใช้งาน ATM] (0.777) สังเกตช่องเสียบบัตรหรือแป้นพิมพ์มีลักษณะแตกต่างไปจากปกติเช่นแป้นพิมพ์มีลักษณะหนากว่าปกติ มิจฉาชีพอาจแอบติดตั้งอุปกรณ์ Sk...\n",
      "[คำเตือนภัยหลอกลวง] (0.754) อย่าคลิกลิงก์ที่ส่งมาทาง SMS หรือ LINE จากผู้ไม่รู้จัก อย่าให้รหัส OTP กับใคร\n",
      "มิจฉาชีพมักอ้างเป็นเจ้าหน้าที่ธนาคารหรือหน...\n"
     ]
    }
   ],
   "source": [
    "print(\"Top Hits:\")\n",
    "for r in results:\n",
    "    print(f\"[{r['title']}] ({r['score']:.3f}) {r['text'][:120]}...\")"
   ]
  },
  {
   "cell_type": "code",
   "execution_count": 89,
   "id": "2a8af66e",
   "metadata": {},
   "outputs": [
    {
     "name": "stdout",
     "output_type": "stream",
     "text": [
      "\n",
      "--- Prompt ที่จะส่งให้ LLM ---\n",
      " \n",
      "You are a helpful assistant .\n",
      "Use the provided restaurant information to answer the user's query.\n",
      "If the query asks for something not in the provided information, politely indicate \n",
      "that you don't have that specific information but suggest the closest alternatives.\n",
      "\n",
      "USER QUERY: ถ้าได้ SMS น่าสงสัยควรทำอย่างไร\n",
      "\n",
      "INFORMATION:\n",
      "- หากท่านไม่เห็นการเข้าสู่โหมด https หลังจากเข้า Website ของธนาคารแล้ว หรือ มีการแจ้งเตือนเรื่อง the SSL Certificate ว่าไม่ใช่เป็นใบรับรองของธนาคาร แนะนำให้ท่านทำการปิด Browser ทันที และไม่ให้ทำรายการธุรกรรมใดๆ\n",
      "- ไม่ให้ที่อยู่อีเมลแก่คนที่เราไม่รู้จัก\n",
      "ไม่เปิดอีเมลจากคน หรือองค์กร/ธุรกิจที่เราไม่รู้จัก\n",
      "อีเมลที่ท่านได้รับอาจเป็นเรื่องหลอกลวง โฆษณาชวนเชื่อที่ไม่เป็นความจริง เป็นจดหมายลูกโซ่ และอาจมีไวรัสคอมพิวเตอร์แนบมากับอีเมล ดังนั้นหากท่านได้รับอีเมลที่ไม่รู้จักหรือน่าสงสัยในลักษณะดังกล่าว ห้ามเปิดไฟล์ใดๆ และให้ทำการลบเมล์นั้นทิ้งทันที\n",
      "ธนาคารไทยพาณิชย์ไม่มีนโยบายในการสอบถามข้อมูลส่วนตัวใดๆ ของลูกค้าผ่านทางอีเมล หรือทางโทรศัพท์ หากท่านได้รับอีเมลหรือโทรศัพท์ในลักษณะดังกล่าว อย่าตอบกลับหรือให้ข้อมูลใดๆ\n",
      "- ไม่กดลิงก์หรือดาวน์โหลดแอปพลิเคชันจาก SMS ที่แอบอ้างเป็นธนาคาร เพราะอาจเป็นไวรัสที่ขโมยข้อมูล\n",
      "- สังเกตช่องเสียบบัตรหรือแป้นพิมพ์มีลักษณะแตกต่างไปจากปกติเช่นแป้นพิมพ์มีลักษณะหนากว่าปกติ มิจฉาชีพอาจแอบติดตั้งอุปกรณ์ Skimmer\n",
      "มีการติดกล่องใส่ใบปลิวบริเวณหน้าเครื่องหรือไม่ มิจฉาชีพอาจซ่อนกล้องในกล่องนั้น\n",
      "สมัครใช้บริการ SMS Alert ซึ่งเป็นบริการแจ้งเตือนทาง SMS\n",
      "อย่ามอบบัตรเอทีเอ็มให้บุคคลอื่นโดยเด็ดขาด ไม่ว่ากรณีใดๆ ทั้งสิ้น\n",
      "\n",
      "\n",
      "Please provide a helpful response that directly answers the user's query based on information above.\n",
      "Include useful information\n",
      "\n"
     ]
    }
   ],
   "source": [
    "print(\"\\n--- Prompt ที่จะส่งให้ LLM ---\\n\", prompt)"
   ]
  },
  {
   "cell_type": "code",
   "execution_count": 90,
   "id": "94135495",
   "metadata": {},
   "outputs": [
    {
     "name": "stdout",
     "output_type": "stream",
     "text": [
      "ถาม: ถ้าได้ SMS น่าสงสัยควรทำอย่างไร \n",
      " หากท่านได้รับ SMS ที่น่าสงสัย ควรปฏิบัติดังนี้:\n",
      "\n",
      "1.  **ห้ามกดลิงก์หรือดาวน์โหลดแอปพลิเคชัน** จาก SMS ที่แอบอ้างเป็นธนาคารโดยเด็ดขาด เพราะอาจเป็นไวรัสที่ขโมยข้อมูลส่วนตัวของท่านได้\n",
      "2.  ธนาคารไทยพาณิชย์ไม่มีนโยบายในการสอบถามข้อมูลส่วนตัวใดๆ ของลูกค้าผ่านทาง SMS, อีเมล หรือทางโทรศัพท์ **หากท่านได้รับ SMS ในลักษณะดังกล่าว โปรดอย่าตอบกลับหรือให้ข้อมูลใดๆ**\n",
      "\n",
      "หากเป็นไปได้ ท่านสามารถลบ SMS นั้นทิ้งได้ทันทีเพื่อป้องกันการเผลอไปกดลิงก์ในภายหลัง.\n"
     ]
    }
   ],
   "source": [
    "print(\"ถาม:\",user_query,\"\\n\",answer)"
   ]
  }
 ],
 "metadata": {
  "kernelspec": {
   "display_name": "rag_pdf",
   "language": "python",
   "name": "python3"
  },
  "language_info": {
   "codemirror_mode": {
    "name": "ipython",
    "version": 3
   },
   "file_extension": ".py",
   "mimetype": "text/x-python",
   "name": "python",
   "nbconvert_exporter": "python",
   "pygments_lexer": "ipython3",
   "version": "3.12.11"
  }
 },
 "nbformat": 4,
 "nbformat_minor": 5
}
